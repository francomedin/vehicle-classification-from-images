{
 "cells": [
  {
   "cell_type": "markdown",
   "id": "d11b9c24",
   "metadata": {},
   "source": [
    "# Vehicle Classification\n",
    "\n",
    "## Evaluate your model\n"
   ]
  },
  {
   "cell_type": "code",
   "execution_count": 1,
   "id": "1205a6a3",
   "metadata": {},
   "outputs": [],
   "source": [
    "import os\n",
    "\n",
    "from sklearn.metrics import accuracy_score, classification_report\n",
    "\n",
    "from utils import utils\n",
    "from models import resnet_50\n"
   ]
  },
  {
   "cell_type": "markdown",
   "id": "491a75b4",
   "metadata": {},
   "source": [
    "## Experiment settings\n",
    "\n",
    "Set here the two variables in the following way:\n",
    "\n",
    "- **CONFIG_YML:** assign the path to the config.yml file used for the experiment you want to evaluate\n",
    "- **WEIGHTS:** assign the path to the model weights (.h5 file) you want to evaluate\n"
   ]
  },
  {
   "cell_type": "code",
   "execution_count": 2,
   "id": "7939dadf",
   "metadata": {},
   "outputs": [],
   "source": [
    "# Modify this\n",
    "CONFIG_YML = \"../experiments/exp_004/FrancoMedina_Exp004.yml\"\n",
    "WEIGHTS = \"../experiments/exp_004/model.10-2.0685.h5\"\n"
   ]
  },
  {
   "cell_type": "code",
   "execution_count": 3,
   "id": "afc06ab4",
   "metadata": {
    "scrolled": true
   },
   "outputs": [
    {
     "data": {
      "text/plain": [
       "{'seed': 123,\n",
       " 'data': {'directory': '/home/app/src/data/car_no_back/train',\n",
       "  'labels': 'inferred',\n",
       "  'label_mode': 'categorical',\n",
       "  'validation_split': 0.2,\n",
       "  'image_size': [224, 224],\n",
       "  'batch_size': 50},\n",
       " 'model': {'weights': 'imagenet',\n",
       "  'input_shape': [224, 224, 3],\n",
       "  'classes': 196,\n",
       "  'dropout_rate': 0.4,\n",
       "  'data_aug_layer': {'random_flip': {'mode': 'horizontal'},\n",
       "   'random_rotation': {'factor': 0.05},\n",
       "   'random_zoom': {'height_factor': 0.15, 'width_factor': 0.15}}},\n",
       " 'compile': {'optimizer': {'adam': {'learning_rate': 0.0001}},\n",
       "  'loss': 'categorical_crossentropy',\n",
       "  'metrics': ['accuracy']},\n",
       " 'fit': {'epochs': 150,\n",
       "  'callbacks': {'model_checkpoint': {'filepath': '/home/app/src/experiments/exp_004/model.{epoch:02d}-{val_loss:.4f}.h5',\n",
       "    'save_best_only': True},\n",
       "   'tensor_board': {'log_dir': '/home/app/src/experiments/exp_004/logs'},\n",
       "   'early_stopping': None}}}"
      ]
     },
     "execution_count": 3,
     "metadata": {},
     "output_type": "execute_result"
    }
   ],
   "source": [
    "# (!) Don't touch this cell, will load the config file specified before\n",
    "config = utils.load_config(CONFIG_YML)\n",
    "config"
   ]
  },
  {
   "cell_type": "code",
   "execution_count": 4,
   "id": "435199e0",
   "metadata": {},
   "outputs": [],
   "source": [
    "# (!) Don't touch this cell, will use the config file to infer the class names\n",
    "#     and also to load the corresponding testing dataset.\n",
    "#     If you get an error, you must review your data/code.\n",
    "\n",
    "MODEL_CLASSES = utils.get_class_names(config)\n",
    "\n",
    "if len(MODEL_CLASSES) != config['model']['classes']:\n",
    "    raise ValueError(\n",
    "        \"Number of classes doesn't match between your model \"\n",
    "        \"and your data!\"\n",
    "    )\n",
    "\n",
    "_dirname, _ = os.path.split(config['data']['directory'])\n",
    "TEST_FOLDER = os.path.join(_dirname, 'test')\n",
    "\n",
    "if not os.path.exists(TEST_FOLDER):\n",
    "    raise ValueError(\"'test' folder not found!\")\n",
    "    \n",
    "if len(os.listdir(TEST_FOLDER)) != config['model']['classes']:\n",
    "    raise ValueError(\n",
    "        \"Number of classes doesn't match between your model \"\n",
    "        \"and your testing dataset!\"\n",
    "    )\n",
    "    \n",
    "if set(os.listdir(TEST_FOLDER)) != set(MODEL_CLASSES):\n",
    "    raise ValueError(\n",
    "        \"The name of the subfolders inside your test set \"\n",
    "        \"doesn't match with the model classes!\"\n",
    "    )"
   ]
  },
  {
   "cell_type": "markdown",
   "id": "85511441",
   "metadata": {},
   "source": [
    "## Load your model\n",
    "\n",
    "Use `resnet_50.create_model()` and remember to properly setup the model weights!\n",
    "\n",
    "Assign the model to the variable `cnn_model`.\n"
   ]
  },
  {
   "cell_type": "code",
   "execution_count": 5,
   "id": "12f91894",
   "metadata": {
    "scrolled": true
   },
   "outputs": [
    {
     "name": "stderr",
     "output_type": "stream",
     "text": [
      "2022-06-22 00:34:49.585335: I tensorflow/stream_executor/cuda/cuda_gpu_executor.cc:936] successful NUMA node read from SysFS had negative value (-1), but there must be at least one NUMA node, so returning NUMA node zero\n",
      "2022-06-22 00:34:49.595154: I tensorflow/stream_executor/cuda/cuda_gpu_executor.cc:936] successful NUMA node read from SysFS had negative value (-1), but there must be at least one NUMA node, so returning NUMA node zero\n",
      "2022-06-22 00:34:49.596036: I tensorflow/stream_executor/cuda/cuda_gpu_executor.cc:936] successful NUMA node read from SysFS had negative value (-1), but there must be at least one NUMA node, so returning NUMA node zero\n",
      "2022-06-22 00:34:49.598246: I tensorflow/core/platform/cpu_feature_guard.cc:151] This TensorFlow binary is optimized with oneAPI Deep Neural Network Library (oneDNN) to use the following CPU instructions in performance-critical operations:  AVX2 FMA\n",
      "To enable them in other operations, rebuild TensorFlow with the appropriate compiler flags.\n",
      "2022-06-22 00:34:49.598834: I tensorflow/stream_executor/cuda/cuda_gpu_executor.cc:936] successful NUMA node read from SysFS had negative value (-1), but there must be at least one NUMA node, so returning NUMA node zero\n",
      "2022-06-22 00:34:49.599795: I tensorflow/stream_executor/cuda/cuda_gpu_executor.cc:936] successful NUMA node read from SysFS had negative value (-1), but there must be at least one NUMA node, so returning NUMA node zero\n",
      "2022-06-22 00:34:49.600700: I tensorflow/stream_executor/cuda/cuda_gpu_executor.cc:936] successful NUMA node read from SysFS had negative value (-1), but there must be at least one NUMA node, so returning NUMA node zero\n",
      "2022-06-22 00:34:50.241925: I tensorflow/stream_executor/cuda/cuda_gpu_executor.cc:936] successful NUMA node read from SysFS had negative value (-1), but there must be at least one NUMA node, so returning NUMA node zero\n",
      "2022-06-22 00:34:50.242808: I tensorflow/stream_executor/cuda/cuda_gpu_executor.cc:936] successful NUMA node read from SysFS had negative value (-1), but there must be at least one NUMA node, so returning NUMA node zero\n",
      "2022-06-22 00:34:50.243613: I tensorflow/stream_executor/cuda/cuda_gpu_executor.cc:936] successful NUMA node read from SysFS had negative value (-1), but there must be at least one NUMA node, so returning NUMA node zero\n",
      "2022-06-22 00:34:50.244367: I tensorflow/core/common_runtime/gpu/gpu_device.cc:1525] Created device /job:localhost/replica:0/task:0/device:GPU:0 with 10794 MB memory:  -> device: 0, name: Tesla K80, pci bus id: 0000:00:1e.0, compute capability: 3.7\n"
     ]
    },
    {
     "name": "stdout",
     "output_type": "stream",
     "text": [
      "Model: \"model\"\n",
      "_________________________________________________________________\n",
      " Layer (type)                Output Shape              Param #   \n",
      "=================================================================\n",
      " input_1 (InputLayer)        [(None, 224, 224, 3)]     0         \n",
      "                                                                 \n",
      " sequential (Sequential)     (None, 224, 224, 3)       0         \n",
      "                                                                 \n",
      " tf.__operators__.getitem (S  (None, 224, 224, 3)      0         \n",
      " licingOpLambda)                                                 \n",
      "                                                                 \n",
      " tf.nn.bias_add (TFOpLambda)  (None, 224, 224, 3)      0         \n",
      "                                                                 \n",
      " resnet50 (Functional)       (None, 2048)              23587712  \n",
      "                                                                 \n",
      " dropout (Dropout)           (None, 2048)              0         \n",
      "                                                                 \n",
      " dense (Dense)               (None, 196)               401604    \n",
      "                                                                 \n",
      "=================================================================\n",
      "Total params: 23,989,316\n",
      "Trainable params: 23,936,196\n",
      "Non-trainable params: 53,120\n",
      "_________________________________________________________________\n",
      "None\n"
     ]
    }
   ],
   "source": [
    "# Complete this\n",
    "# TODO\n",
    "cnn_model = resnet_50.create_model(weights=WEIGHTS)\n",
    "\n",
    "# It should print your model correctly\n",
    "print(cnn_model.summary())"
   ]
  },
  {
   "cell_type": "markdown",
   "id": "b6a33cbb",
   "metadata": {},
   "source": [
    "## Get predictions from testing dataset"
   ]
  },
  {
   "cell_type": "code",
   "execution_count": 6,
   "id": "cce894dd",
   "metadata": {},
   "outputs": [
    {
     "name": "stderr",
     "output_type": "stream",
     "text": [
      "2022-06-22 00:34:55.801749: I tensorflow/stream_executor/cuda/cuda_dnn.cc:368] Loaded cuDNN version 8200\n",
      "2022-06-22 00:34:56.090543: I tensorflow/core/platform/default/subprocess.cc:304] Start cannot spawn child process: No such file or directory\n",
      "2022-06-22 00:34:56.091244: I tensorflow/core/platform/default/subprocess.cc:304] Start cannot spawn child process: No such file or directory\n",
      "2022-06-22 00:34:56.091316: W tensorflow/stream_executor/gpu/asm_compiler.cc:80] Couldn't get ptxas version string: INTERNAL: Couldn't invoke ptxas --version\n",
      "2022-06-22 00:34:56.092048: I tensorflow/core/platform/default/subprocess.cc:304] Start cannot spawn child process: No such file or directory\n",
      "2022-06-22 00:34:56.092174: W tensorflow/stream_executor/gpu/redzone_allocator.cc:314] INTERNAL: Failed to launch ptxas\n",
      "Relying on driver to perform ptx compilation. \n",
      "Modify $PATH to customize ptxas location.\n",
      "This message will be only logged once.\n"
     ]
    }
   ],
   "source": [
    "# (!) Don't touch this cell, will use the loaded model and\n",
    "#     the function utils.predict_from_folder() to get \n",
    "#     model predictions and the corresponding true labels\n",
    "#     so we can measure the accuracy\n",
    "\n",
    "predictions, labels = utils.predict_from_folder(\n",
    "    folder=TEST_FOLDER, \n",
    "    model=cnn_model, \n",
    "    input_size=config[\"data\"][\"image_size\"], \n",
    "    class_names=MODEL_CLASSES,\n",
    ")\n",
    "\n",
    "if len(predictions) != len(labels):\n",
    "    raise ValueError(\n",
    "        \"The lenght of predictions and labels lists doesn't match!\"\n",
    "    )\n",
    "\n",
    "if not isinstance(predictions[0], str):\n",
    "    raise ValueError(\n",
    "        \"Model predictions should be represented as string. E.g: 'Acura RL Sedan 2012'\"\n",
    "    )\n",
    "\n",
    "if not isinstance(labels[0], str):\n",
    "    raise ValueError(\n",
    "        \"Ground true labels should be represented as string. E.g: 'Acura RL Sedan 2012'\"\n",
    "    )\n"
   ]
  },
  {
   "cell_type": "code",
   "execution_count": 7,
   "id": "52b06098",
   "metadata": {
    "scrolled": true
   },
   "outputs": [
    {
     "name": "stdout",
     "output_type": "stream",
     "text": [
      "                                                        precision    recall  f1-score   support\n",
      "\n",
      "                            AM General Hummer SUV 2000       0.55      0.98      0.70        44\n",
      "                             Acura Integra Type R 2001       0.95      0.86      0.90        44\n",
      "                                   Acura RL Sedan 2012       0.49      0.81      0.61        32\n",
      "                                   Acura TL Sedan 2012       0.69      0.93      0.79        43\n",
      "                                  Acura TL Type-S 2008       0.75      0.86      0.80        42\n",
      "                                  Acura TSX Sedan 2012       0.91      0.50      0.65        40\n",
      "                              Acura ZDX Hatchback 2012       0.82      0.82      0.82        39\n",
      "              Aston Martin V8 Vantage Convertible 2012       0.52      0.69      0.59        45\n",
      "                    Aston Martin V8 Vantage Coupe 2012       0.52      0.56      0.54        41\n",
      "                  Aston Martin Virage Convertible 2012       0.83      0.58      0.68        33\n",
      "                        Aston Martin Virage Coupe 2012       0.84      0.84      0.84        38\n",
      "                                   Audi 100 Sedan 1994       0.54      0.68      0.60        40\n",
      "                                   Audi 100 Wagon 1994       0.48      0.52      0.50        42\n",
      "                                    Audi A5 Coupe 2012       0.43      0.90      0.58        41\n",
      "                                    Audi R8 Coupe 2012       0.89      0.58      0.70        43\n",
      "                            Audi RS 4 Convertible 2008       0.71      0.75      0.73        36\n",
      "                                    Audi S4 Sedan 2007       0.85      0.78      0.81        45\n",
      "                                    Audi S4 Sedan 2012       0.68      0.38      0.49        39\n",
      "                              Audi S5 Convertible 2012       0.94      0.40      0.57        42\n",
      "                                    Audi S5 Coupe 2012       0.68      0.36      0.47        42\n",
      "                                    Audi S6 Sedan 2011       0.95      0.78      0.86        46\n",
      "                                Audi TT Hatchback 2011       0.57      0.53      0.55        40\n",
      "                                 Audi TT RS Coupe 2012       0.67      0.67      0.67        39\n",
      "                                   Audi TTS Coupe 2012       0.59      0.45      0.51        42\n",
      "                                    Audi V8 Sedan 1994       0.72      0.53      0.61        43\n",
      "                         BMW 1 Series Convertible 2012       0.84      0.77      0.81        35\n",
      "                               BMW 1 Series Coupe 2012       0.92      0.56      0.70        41\n",
      "                               BMW 3 Series Sedan 2012       0.77      0.48      0.59        42\n",
      "                               BMW 3 Series Wagon 2012       0.87      0.66      0.75        41\n",
      "                         BMW 6 Series Convertible 2007       0.87      0.30      0.44        44\n",
      "                         BMW ActiveHybrid 5 Sedan 2012       0.88      0.85      0.87        34\n",
      "                                     BMW M3 Coupe 2012       0.89      0.57      0.69        44\n",
      "                                     BMW M5 Sedan 2010       0.26      1.00      0.41        41\n",
      "                               BMW M6 Convertible 2010       0.39      0.95      0.55        41\n",
      "                                       BMW X3 SUV 2012       0.94      0.82      0.87        38\n",
      "                                       BMW X5 SUV 2007       0.79      0.83      0.81        41\n",
      "                                       BMW X6 SUV 2012       0.88      0.55      0.68        42\n",
      "                               BMW Z4 Convertible 2012       0.86      0.47      0.61        40\n",
      "                             Bentley Arnage Sedan 2009       0.35      0.97      0.52        39\n",
      "            Bentley Continental Flying Spur Sedan 2007       0.63      0.59      0.61        44\n",
      "                     Bentley Continental GT Coupe 2007       0.65      0.78      0.71        46\n",
      "                     Bentley Continental GT Coupe 2012       0.49      0.65      0.56        34\n",
      "Bentley Continental Supersports Conv. Convertible 2012       0.57      0.78      0.66        36\n",
      "                           Bentley Mulsanne Sedan 2011       0.81      0.71      0.76        35\n",
      "                  Bugatti Veyron 16.4 Convertible 2009       0.76      0.50      0.60        32\n",
      "                        Bugatti Veyron 16.4 Coupe 2009       0.69      0.84      0.76        43\n",
      "                                Buick Enclave SUV 2012       0.97      0.81      0.88        42\n",
      "                                Buick Rainier SUV 2007       0.92      0.79      0.85        42\n",
      "                                   Buick Regal GS 2012       0.85      0.94      0.89        35\n",
      "                               Buick Verano Sedan 2012       0.90      0.95      0.92        37\n",
      "                             Cadillac CTS-V Sedan 2012       0.65      0.86      0.74        43\n",
      "                   Cadillac Escalade EXT Crew Cab 2007       0.90      0.84      0.87        44\n",
      "                                 Cadillac SRX SUV 2012       1.00      0.73      0.85        41\n",
      "                     Chevrolet Avalanche Crew Cab 2012       0.47      0.82      0.60        45\n",
      "                     Chevrolet Camaro Convertible 2012       1.00      0.70      0.83        44\n",
      "                              Chevrolet Cobalt SS 2010       0.67      0.95      0.79        41\n",
      "                   Chevrolet Corvette Convertible 2012       0.84      0.69      0.76        39\n",
      "       Chevrolet Corvette Ron Fellows Edition Z06 2007       0.80      0.76      0.78        37\n",
      "                           Chevrolet Corvette ZR1 2012       0.86      0.65      0.74        46\n",
      "                      Chevrolet Express Cargo Van 2007       0.42      0.93      0.57        29\n",
      "                            Chevrolet Express Van 2007       0.62      0.14      0.23        35\n",
      "                                 Chevrolet HHR SS 2010       1.00      0.81      0.89        36\n",
      "                           Chevrolet Impala Sedan 2007       0.82      0.65      0.73        43\n",
      "                    Chevrolet Malibu Hybrid Sedan 2010       0.81      0.76      0.78        38\n",
      "                           Chevrolet Malibu Sedan 2007       0.96      0.57      0.71        44\n",
      "                      Chevrolet Monte Carlo Coupe 2007       0.80      0.82      0.81        45\n",
      "    Chevrolet Silverado 1500 Classic Extended Cab 2007       0.96      0.55      0.70        42\n",
      "            Chevrolet Silverado 1500 Extended Cab 2012       1.00      0.35      0.52        43\n",
      "         Chevrolet Silverado 1500 Hybrid Crew Cab 2012       0.70      0.35      0.47        40\n",
      "             Chevrolet Silverado 1500 Regular Cab 2012       0.48      0.89      0.62        44\n",
      "           Chevrolet Silverado 2500HD Regular Cab 2012       0.57      0.45      0.50        38\n",
      "                            Chevrolet Sonic Sedan 2012       0.88      0.98      0.92        44\n",
      "                       Chevrolet Tahoe Hybrid SUV 2012       0.80      0.54      0.65        37\n",
      "                         Chevrolet TrailBlazer SS 2009       0.73      0.93      0.81        40\n",
      "                           Chevrolet Traverse SUV 2012       0.75      0.89      0.81        44\n",
      "                               Chrysler 300 SRT-8 2010       0.51      0.88      0.65        48\n",
      "                               Chrysler Aspen SUV 2009       0.66      0.88      0.75        43\n",
      "                   Chrysler Crossfire Convertible 2008       0.97      0.77      0.86        43\n",
      "                  Chrysler PT Cruiser Convertible 2008       1.00      0.91      0.95        45\n",
      "                     Chrysler Sebring Convertible 2010       0.97      0.80      0.88        40\n",
      "                Chrysler Town and Country Minivan 2012       0.93      0.76      0.84        37\n",
      "                              Daewoo Nubira Wagon 2002       1.00      0.56      0.71        45\n",
      "                              Dodge Caliber Wagon 2007       0.67      0.74      0.70        42\n",
      "                              Dodge Caliber Wagon 2012       0.72      0.45      0.55        40\n",
      "                            Dodge Caravan Minivan 1997       0.98      0.93      0.95        43\n",
      "                            Dodge Challenger SRT8 2011       1.00      0.77      0.87        39\n",
      "                              Dodge Charger SRT-8 2009       0.77      0.64      0.70        42\n",
      "                              Dodge Charger Sedan 2012       0.63      0.90      0.74        41\n",
      "                            Dodge Dakota Club Cab 2007       0.91      0.84      0.88        38\n",
      "                            Dodge Dakota Crew Cab 2010       0.80      0.78      0.79        41\n",
      "                                Dodge Durango SUV 2007       0.86      0.80      0.83        45\n",
      "                                Dodge Durango SUV 2012       0.93      0.91      0.92        43\n",
      "                                Dodge Journey SUV 2012       0.95      0.86      0.90        44\n",
      "                               Dodge Magnum Wagon 2008       0.78      0.70      0.74        40\n",
      "                   Dodge Ram Pickup 3500 Crew Cab 2010       0.97      0.88      0.93        42\n",
      "                   Dodge Ram Pickup 3500 Quad Cab 2009       0.85      0.89      0.87        44\n",
      "                         Dodge Sprinter Cargo Van 2009       0.70      0.85      0.77        39\n",
      "                            Eagle Talon Hatchback 1998       0.88      0.83      0.85        46\n",
      "                                  FIAT 500 Abarth 2012       0.96      0.96      0.96        27\n",
      "                             FIAT 500 Convertible 2012       0.94      0.88      0.91        33\n",
      "                   Ferrari 458 Italia Convertible 2012       0.83      0.51      0.63        39\n",
      "                         Ferrari 458 Italia Coupe 2012       0.63      0.76      0.69        42\n",
      "                   Ferrari California Convertible 2012       1.00      0.74      0.85        39\n",
      "                                 Ferrari FF Coupe 2012       0.88      0.83      0.85        42\n",
      "                               Fisker Karma Sedan 2012       0.81      0.81      0.81        43\n",
      "                          Ford E-Series Wagon Van 2012       0.80      0.97      0.88        37\n",
      "                                    Ford Edge SUV 2012       0.62      0.84      0.71        43\n",
      "                           Ford Expedition EL SUV 2009       0.96      0.61      0.75        44\n",
      "                           Ford F-150 Regular Cab 2007       0.89      0.89      0.89        45\n",
      "                           Ford F-150 Regular Cab 2012       0.88      0.86      0.87        42\n",
      "                   Ford F-450 Super Duty Crew Cab 2012       0.83      0.83      0.83        41\n",
      "                                Ford Fiesta Sedan 2012       1.00      0.69      0.82        42\n",
      "                                 Ford Focus Sedan 2007       0.97      0.80      0.88        45\n",
      "                            Ford Freestar Minivan 2007       0.84      0.98      0.91        44\n",
      "                                    Ford GT Coupe 2006       0.56      0.82      0.67        45\n",
      "                         Ford Mustang Convertible 2007       1.00      0.48      0.65        44\n",
      "                             Ford Ranger SuperCab 2011       0.95      0.83      0.89        42\n",
      "                                   GMC Acadia SUV 2012       0.95      0.89      0.92        44\n",
      "                          GMC Canyon Extended Cab 2012       0.97      0.70      0.81        40\n",
      "                                   GMC Savana Van 2012       0.65      0.69      0.67        68\n",
      "                                  GMC Terrain SUV 2012       0.85      0.80      0.83        41\n",
      "                             GMC Yukon Hybrid SUV 2012       0.87      0.81      0.84        42\n",
      "                            Geo Metro Convertible 1993       0.82      0.64      0.72        44\n",
      "                           HUMMER H2 SUT Crew Cab 2009       1.00      0.51      0.68        43\n",
      "                              HUMMER H3T Crew Cab 2010       0.58      0.97      0.72        39\n",
      "                               Honda Accord Coupe 2012       0.96      0.62      0.75        39\n",
      "                               Honda Accord Sedan 2012       0.90      0.68      0.78        38\n",
      "                            Honda Odyssey Minivan 2007       0.97      0.83      0.89        41\n",
      "                            Honda Odyssey Minivan 2012       0.93      0.90      0.92        42\n",
      "                             Hyundai Accent Sedan 2012       0.76      0.67      0.71        24\n",
      "                              Hyundai Azera Sedan 2012       0.59      0.83      0.69        42\n",
      "                            Hyundai Elantra Sedan 2007       0.97      0.81      0.88        42\n",
      "                Hyundai Elantra Touring Hatchback 2012       0.93      0.88      0.90        42\n",
      "                            Hyundai Genesis Sedan 2012       0.86      0.88      0.87        43\n",
      "                             Hyundai Santa Fe SUV 2012       1.00      0.79      0.88        42\n",
      "                      Hyundai Sonata Hybrid Sedan 2012       0.81      0.88      0.84        33\n",
      "                             Hyundai Sonata Sedan 2012       1.00      0.82      0.90        39\n",
      "                               Hyundai Tucson SUV 2012       0.97      0.77      0.86        43\n",
      "                       Hyundai Veloster Hatchback 2012       0.85      0.98      0.91        41\n",
      "                             Hyundai Veracruz SUV 2012       0.79      0.90      0.84        42\n",
      "                             Infiniti G Coupe IPL 2012       0.79      0.88      0.83        34\n",
      "                                Infiniti QX56 SUV 2011       1.00      0.81      0.90        32\n",
      "                               Isuzu Ascender SUV 2008       0.97      0.72      0.83        40\n",
      "                                    Jaguar XK XKR 2012       0.76      0.91      0.83        46\n",
      "                                 Jeep Compass SUV 2012       0.78      0.90      0.84        42\n",
      "                          Jeep Grand Cherokee SUV 2012       0.93      0.60      0.73        45\n",
      "                                 Jeep Liberty SUV 2012       0.91      0.91      0.91        44\n",
      "                                 Jeep Patriot SUV 2012       0.89      0.89      0.89        44\n",
      "                                Jeep Wrangler SUV 2012       0.98      0.93      0.95        43\n",
      "                      Lamborghini Aventador Coupe 2012       0.49      0.93      0.65        43\n",
      "                         Lamborghini Diablo Coupe 2001       0.90      0.86      0.88        44\n",
      "       Lamborghini Gallardo LP 570-4 Superleggera 2012       0.93      0.71      0.81        35\n",
      "                       Lamborghini Reventon Coupe 2008       0.71      0.94      0.81        36\n",
      "                               Land Rover LR2 SUV 2012       0.86      0.76      0.81        42\n",
      "                       Land Rover Range Rover SUV 2012       0.88      1.00      0.93        42\n",
      "                           Lincoln Town Car Sedan 2011       0.83      0.74      0.78        39\n",
      "                 MINI Cooper Roadster Convertible 2012       1.00      0.92      0.96        36\n",
      "                    Maybach Landaulet Convertible 2012       0.91      0.72      0.81        29\n",
      "                                Mazda Tribute SUV 2011       1.00      0.67      0.80        36\n",
      "                            McLaren MP4-12C Coupe 2012       0.87      0.77      0.82        44\n",
      "              Mercedes-Benz 300-Class Convertible 1993       0.41      0.94      0.57        48\n",
      "                      Mercedes-Benz C-Class Sedan 2012       0.94      0.69      0.79        45\n",
      "                      Mercedes-Benz E-Class Sedan 2012       0.67      0.93      0.78        43\n",
      "                      Mercedes-Benz S-Class Sedan 2012       0.97      0.75      0.85        44\n",
      "                     Mercedes-Benz SL-Class Coupe 2009       1.00      0.69      0.82        36\n",
      "                       Mercedes-Benz Sprinter Van 2012       0.88      0.71      0.78        41\n",
      "                          Mitsubishi Lancer Sedan 2012       0.88      0.81      0.84        47\n",
      "                               Nissan 240SX Coupe 1998       0.88      0.93      0.91        46\n",
      "                            Nissan Juke Hatchback 2012       0.62      0.98      0.76        44\n",
      "                            Nissan Leaf Hatchback 2012       0.83      0.93      0.88        42\n",
      "                          Nissan NV Passenger Van 2012       0.97      0.89      0.93        38\n",
      "                              Plymouth Neon Coupe 1999       0.93      0.95      0.94        44\n",
      "                           Porsche Panamera Sedan 2012       0.92      0.81      0.86        43\n",
      "                        Ram C-V Cargo Van Minivan 2012       0.81      0.73      0.77        41\n",
      "                          Rolls-Royce Ghost Sedan 2012       0.52      0.87      0.65        38\n",
      "   Rolls-Royce Phantom Drophead Coupe Convertible 2012       0.44      0.70      0.54        30\n",
      "                        Rolls-Royce Phantom Sedan 2012       0.91      0.48      0.63        44\n",
      "                               Scion xD Hatchback 2012       0.90      0.90      0.90        41\n",
      "                            Spyker C8 Convertible 2009       0.84      0.82      0.83        45\n",
      "                                  Spyker C8 Coupe 2009       0.86      0.45      0.59        42\n",
      "                               Suzuki Aerio Sedan 2007       0.89      0.63      0.74        38\n",
      "                             Suzuki Kizashi Sedan 2012       0.74      0.76      0.75        46\n",
      "                             Suzuki SX4 Hatchback 2012       0.91      0.74      0.82        42\n",
      "                                 Suzuki SX4 Sedan 2012       0.70      0.53      0.60        40\n",
      "                              Tesla Model S Sedan 2012       0.89      0.87      0.88        38\n",
      "                               Toyota 4Runner SUV 2012       0.97      0.80      0.88        40\n",
      "                               Toyota Camry Sedan 2012       0.84      0.86      0.85        43\n",
      "                             Toyota Corolla Sedan 2012       1.00      0.60      0.75        43\n",
      "                               Toyota Sequoia SUV 2012       1.00      0.79      0.88        38\n",
      "                      Volkswagen Beetle Hatchback 2012       0.98      0.98      0.98        42\n",
      "                        Volkswagen Golf Hatchback 1991       0.78      0.93      0.85        46\n",
      "                        Volkswagen Golf Hatchback 2012       0.96      0.63      0.76        43\n",
      "                                  Volvo 240 Sedan 1993       0.60      0.96      0.74        45\n",
      "                              Volvo C30 Hatchback 2012       0.95      0.85      0.90        41\n",
      "                                   Volvo XC90 SUV 2007       0.93      0.63      0.75        43\n",
      "                         smart fortwo Convertible 2012       0.94      0.85      0.89        40\n",
      "\n",
      "                                              accuracy                           0.76      8041\n",
      "                                             macro avg       0.81      0.76      0.77      8041\n",
      "                                          weighted avg       0.81      0.76      0.77      8041\n",
      "\n"
     ]
    }
   ],
   "source": [
    "# (!) Don't touch this cell\n",
    "\n",
    "print(classification_report(y_true=labels, y_pred=predictions))\n"
   ]
  },
  {
   "cell_type": "code",
   "execution_count": 8,
   "id": "e8342c09",
   "metadata": {},
   "outputs": [
    {
     "name": "stdout",
     "output_type": "stream",
     "text": [
      "Your model accuracy is 0.7616!\n"
     ]
    }
   ],
   "source": [
    "# (!) Don't touch this cell\n",
    "\n",
    "acc = accuracy_score(y_true=labels, y_pred=predictions)\n",
    "\n",
    "print(f\"Your model accuracy is {acc:.4f}!\")\n",
    "\n",
    "if acc < .3:\n",
    "    raise ValueError(\"Your model accuracy is too low :(\\nYou can do it better! :)\")\n"
   ]
  },
  {
   "cell_type": "markdown",
   "id": "c0ee5563",
   "metadata": {},
   "source": []
  },
  {
   "cell_type": "markdown",
   "id": "5741b080",
   "metadata": {},
   "source": [
    "## Report\n",
    "\n",
    "After several trains in AWS, some documented and other not because some error with git. I decided to apply:\n",
    "- Train the dense layer and the resnet_50\n",
    "- L2 regularization = default value\n",
    "- Cropped background using detectron\n",
    "- A batch size of 50 images\n",
    "- Regular Learning Rate\n",
    "\n",
    "\n",
    "Here are the results: 76% Accuracy in test. One things that brings my attention was the few epochs to get this values, just 9.\n",
    "In the other hand, talking with some fellows I realized that they have lowest values in the loss curve but worst perfomance in model evaluation so my approach of lowest loss is equal to better accuracy was wrong.\n",
    "\n",
    "\n"
   ]
  },
  {
   "cell_type": "markdown",
   "id": "02696de6",
   "metadata": {},
   "source": []
  },
  {
   "cell_type": "markdown",
   "id": "ec77795e",
   "metadata": {},
   "source": [
    "<img src=\"exp_004_accuracy.png\">"
   ]
  },
  {
   "cell_type": "markdown",
   "id": "2292346b",
   "metadata": {},
   "source": []
  },
  {
   "cell_type": "markdown",
   "id": "318d30ee",
   "metadata": {},
   "source": [
    "<img src=\"exp_004_epoch_loss.png\">"
   ]
  },
  {
   "cell_type": "markdown",
   "id": "25171789",
   "metadata": {},
   "source": []
  }
 ],
 "metadata": {
  "kernelspec": {
   "display_name": "Python 3.8.13 ('sprint5')",
   "language": "python",
   "name": "python3"
  },
  "language_info": {
   "codemirror_mode": {
    "name": "ipython",
    "version": 3
   },
   "file_extension": ".py",
   "mimetype": "text/x-python",
   "name": "python",
   "nbconvert_exporter": "python",
   "pygments_lexer": "ipython3",
   "version": "3.8.13"
  },
  "vscode": {
   "interpreter": {
    "hash": "9b36ae5cce78e421a1be27dbc28a0380fa859303758df1ae414713329ceb7a1d"
   }
  }
 },
 "nbformat": 4,
 "nbformat_minor": 5
}
